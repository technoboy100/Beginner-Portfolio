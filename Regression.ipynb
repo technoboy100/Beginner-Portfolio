{
  "nbformat": 4,
  "nbformat_minor": 0,
  "metadata": {
    "colab": {
      "name": "Regression.ipynb",
      "provenance": [],
      "collapsed_sections": [],
      "authorship_tag": "ABX9TyP0V3U1VQchVWy+f3R6Dncm",
      "include_colab_link": true
    },
    "kernelspec": {
      "name": "python3",
      "display_name": "Python 3"
    }
  },
  "cells": [
    {
      "cell_type": "markdown",
      "metadata": {
        "id": "view-in-github",
        "colab_type": "text"
      },
      "source": [
        "<a href=\"https://colab.research.google.com/github/technoboy100/Beginner-Portfolio/blob/master/Regression.ipynb\" target=\"_parent\"><img src=\"https://colab.research.google.com/assets/colab-badge.svg\" alt=\"Open In Colab\"/></a>"
      ]
    },
    {
      "cell_type": "code",
      "metadata": {
        "id": "ATfAQlE3fWor"
      },
      "source": [
        "import pandas as pd\n"
      ],
      "execution_count": 1,
      "outputs": []
    },
    {
      "cell_type": "code",
      "metadata": {
        "id": "DGrdiLTv8nXe"
      },
      "source": [
        "df = pd.read_csv('/content/Social_Network_Ads.csv')"
      ],
      "execution_count": 4,
      "outputs": []
    },
    {
      "cell_type": "code",
      "metadata": {
        "colab": {
          "base_uri": "https://localhost:8080/",
          "height": 204
        },
        "id": "2nO_SDye9FAL",
        "outputId": "5f4dd0e0-eb1f-4cc3-c195-c9e8d89083c1"
      },
      "source": [
        "df.head()"
      ],
      "execution_count": 5,
      "outputs": [
        {
          "output_type": "execute_result",
          "data": {
            "text/html": [
              "<div>\n",
              "<style scoped>\n",
              "    .dataframe tbody tr th:only-of-type {\n",
              "        vertical-align: middle;\n",
              "    }\n",
              "\n",
              "    .dataframe tbody tr th {\n",
              "        vertical-align: top;\n",
              "    }\n",
              "\n",
              "    .dataframe thead th {\n",
              "        text-align: right;\n",
              "    }\n",
              "</style>\n",
              "<table border=\"1\" class=\"dataframe\">\n",
              "  <thead>\n",
              "    <tr style=\"text-align: right;\">\n",
              "      <th></th>\n",
              "      <th>User ID</th>\n",
              "      <th>Gender</th>\n",
              "      <th>Age</th>\n",
              "      <th>EstimatedSalary</th>\n",
              "      <th>Purchased</th>\n",
              "    </tr>\n",
              "  </thead>\n",
              "  <tbody>\n",
              "    <tr>\n",
              "      <th>0</th>\n",
              "      <td>15624510</td>\n",
              "      <td>Male</td>\n",
              "      <td>19</td>\n",
              "      <td>19000</td>\n",
              "      <td>0</td>\n",
              "    </tr>\n",
              "    <tr>\n",
              "      <th>1</th>\n",
              "      <td>15810944</td>\n",
              "      <td>Male</td>\n",
              "      <td>35</td>\n",
              "      <td>20000</td>\n",
              "      <td>0</td>\n",
              "    </tr>\n",
              "    <tr>\n",
              "      <th>2</th>\n",
              "      <td>15668575</td>\n",
              "      <td>Female</td>\n",
              "      <td>26</td>\n",
              "      <td>43000</td>\n",
              "      <td>0</td>\n",
              "    </tr>\n",
              "    <tr>\n",
              "      <th>3</th>\n",
              "      <td>15603246</td>\n",
              "      <td>Female</td>\n",
              "      <td>27</td>\n",
              "      <td>57000</td>\n",
              "      <td>0</td>\n",
              "    </tr>\n",
              "    <tr>\n",
              "      <th>4</th>\n",
              "      <td>15804002</td>\n",
              "      <td>Male</td>\n",
              "      <td>19</td>\n",
              "      <td>76000</td>\n",
              "      <td>0</td>\n",
              "    </tr>\n",
              "  </tbody>\n",
              "</table>\n",
              "</div>"
            ],
            "text/plain": [
              "    User ID  Gender  Age  EstimatedSalary  Purchased\n",
              "0  15624510    Male   19            19000          0\n",
              "1  15810944    Male   35            20000          0\n",
              "2  15668575  Female   26            43000          0\n",
              "3  15603246  Female   27            57000          0\n",
              "4  15804002    Male   19            76000          0"
            ]
          },
          "metadata": {},
          "execution_count": 5
        }
      ]
    },
    {
      "cell_type": "code",
      "metadata": {
        "colab": {
          "base_uri": "https://localhost:8080/"
        },
        "id": "_i_RMzJ49XvY",
        "outputId": "d3d9fccb-bba9-4f21-b25c-5205a92b2c95"
      },
      "source": [
        "df.shape"
      ],
      "execution_count": 6,
      "outputs": [
        {
          "output_type": "execute_result",
          "data": {
            "text/plain": [
              "(400, 5)"
            ]
          },
          "metadata": {},
          "execution_count": 6
        }
      ]
    },
    {
      "cell_type": "code",
      "metadata": {
        "colab": {
          "base_uri": "https://localhost:8080/"
        },
        "id": "jcICuJqy9c79",
        "outputId": "398b150e-f18a-45ca-e2b6-96854813a4ee"
      },
      "source": [
        "df.info()"
      ],
      "execution_count": 7,
      "outputs": [
        {
          "output_type": "stream",
          "name": "stdout",
          "text": [
            "<class 'pandas.core.frame.DataFrame'>\n",
            "RangeIndex: 400 entries, 0 to 399\n",
            "Data columns (total 5 columns):\n",
            " #   Column           Non-Null Count  Dtype \n",
            "---  ------           --------------  ----- \n",
            " 0   User ID          400 non-null    int64 \n",
            " 1   Gender           400 non-null    object\n",
            " 2   Age              400 non-null    int64 \n",
            " 3   EstimatedSalary  400 non-null    int64 \n",
            " 4   Purchased        400 non-null    int64 \n",
            "dtypes: int64(4), object(1)\n",
            "memory usage: 15.8+ KB\n"
          ]
        }
      ]
    },
    {
      "cell_type": "code",
      "metadata": {
        "colab": {
          "base_uri": "https://localhost:8080/",
          "height": 297
        },
        "id": "aITUeTbq9rQL",
        "outputId": "397767db-a5b8-4ad7-e19a-bd595cf4ef72"
      },
      "source": [
        "df.describe()\n"
      ],
      "execution_count": 9,
      "outputs": [
        {
          "output_type": "execute_result",
          "data": {
            "text/html": [
              "<div>\n",
              "<style scoped>\n",
              "    .dataframe tbody tr th:only-of-type {\n",
              "        vertical-align: middle;\n",
              "    }\n",
              "\n",
              "    .dataframe tbody tr th {\n",
              "        vertical-align: top;\n",
              "    }\n",
              "\n",
              "    .dataframe thead th {\n",
              "        text-align: right;\n",
              "    }\n",
              "</style>\n",
              "<table border=\"1\" class=\"dataframe\">\n",
              "  <thead>\n",
              "    <tr style=\"text-align: right;\">\n",
              "      <th></th>\n",
              "      <th>User ID</th>\n",
              "      <th>Age</th>\n",
              "      <th>EstimatedSalary</th>\n",
              "      <th>Purchased</th>\n",
              "    </tr>\n",
              "  </thead>\n",
              "  <tbody>\n",
              "    <tr>\n",
              "      <th>count</th>\n",
              "      <td>4.000000e+02</td>\n",
              "      <td>400.000000</td>\n",
              "      <td>400.000000</td>\n",
              "      <td>400.000000</td>\n",
              "    </tr>\n",
              "    <tr>\n",
              "      <th>mean</th>\n",
              "      <td>1.569154e+07</td>\n",
              "      <td>37.655000</td>\n",
              "      <td>69742.500000</td>\n",
              "      <td>0.357500</td>\n",
              "    </tr>\n",
              "    <tr>\n",
              "      <th>std</th>\n",
              "      <td>7.165832e+04</td>\n",
              "      <td>10.482877</td>\n",
              "      <td>34096.960282</td>\n",
              "      <td>0.479864</td>\n",
              "    </tr>\n",
              "    <tr>\n",
              "      <th>min</th>\n",
              "      <td>1.556669e+07</td>\n",
              "      <td>18.000000</td>\n",
              "      <td>15000.000000</td>\n",
              "      <td>0.000000</td>\n",
              "    </tr>\n",
              "    <tr>\n",
              "      <th>25%</th>\n",
              "      <td>1.562676e+07</td>\n",
              "      <td>29.750000</td>\n",
              "      <td>43000.000000</td>\n",
              "      <td>0.000000</td>\n",
              "    </tr>\n",
              "    <tr>\n",
              "      <th>50%</th>\n",
              "      <td>1.569434e+07</td>\n",
              "      <td>37.000000</td>\n",
              "      <td>70000.000000</td>\n",
              "      <td>0.000000</td>\n",
              "    </tr>\n",
              "    <tr>\n",
              "      <th>75%</th>\n",
              "      <td>1.575036e+07</td>\n",
              "      <td>46.000000</td>\n",
              "      <td>88000.000000</td>\n",
              "      <td>1.000000</td>\n",
              "    </tr>\n",
              "    <tr>\n",
              "      <th>max</th>\n",
              "      <td>1.581524e+07</td>\n",
              "      <td>60.000000</td>\n",
              "      <td>150000.000000</td>\n",
              "      <td>1.000000</td>\n",
              "    </tr>\n",
              "  </tbody>\n",
              "</table>\n",
              "</div>"
            ],
            "text/plain": [
              "            User ID         Age  EstimatedSalary   Purchased\n",
              "count  4.000000e+02  400.000000       400.000000  400.000000\n",
              "mean   1.569154e+07   37.655000     69742.500000    0.357500\n",
              "std    7.165832e+04   10.482877     34096.960282    0.479864\n",
              "min    1.556669e+07   18.000000     15000.000000    0.000000\n",
              "25%    1.562676e+07   29.750000     43000.000000    0.000000\n",
              "50%    1.569434e+07   37.000000     70000.000000    0.000000\n",
              "75%    1.575036e+07   46.000000     88000.000000    1.000000\n",
              "max    1.581524e+07   60.000000    150000.000000    1.000000"
            ]
          },
          "metadata": {},
          "execution_count": 9
        }
      ]
    },
    {
      "cell_type": "code",
      "metadata": {
        "colab": {
          "base_uri": "https://localhost:8080/"
        },
        "id": "4BRUNlBS96HD",
        "outputId": "b10c772b-0490-41ef-c9e4-4aae05040a20"
      },
      "source": [
        "df.columns"
      ],
      "execution_count": 10,
      "outputs": [
        {
          "output_type": "execute_result",
          "data": {
            "text/plain": [
              "Index(['User ID', 'Gender', 'Age', 'EstimatedSalary', 'Purchased'], dtype='object')"
            ]
          },
          "metadata": {},
          "execution_count": 10
        }
      ]
    },
    {
      "cell_type": "code",
      "metadata": {
        "colab": {
          "base_uri": "https://localhost:8080/"
        },
        "id": "2Bgh_GIR-FCg",
        "outputId": "db1d5871-d7b6-4b77-d622-2f13ffc5d5d7"
      },
      "source": [
        "df['Purchased'].unique ()"
      ],
      "execution_count": 11,
      "outputs": [
        {
          "output_type": "execute_result",
          "data": {
            "text/plain": [
              "array([0, 1])"
            ]
          },
          "metadata": {},
          "execution_count": 11
        }
      ]
    },
    {
      "cell_type": "code",
      "metadata": {
        "colab": {
          "base_uri": "https://localhost:8080/"
        },
        "id": "mx7y50L9-QHl",
        "outputId": "cf50cd3a-c941-4584-fb41-ec9ebebf697a"
      },
      "source": [
        "df['Purchased'].value_counts()"
      ],
      "execution_count": 12,
      "outputs": [
        {
          "output_type": "execute_result",
          "data": {
            "text/plain": [
              "0    257\n",
              "1    143\n",
              "Name: Purchased, dtype: int64"
            ]
          },
          "metadata": {},
          "execution_count": 12
        }
      ]
    },
    {
      "cell_type": "code",
      "metadata": {
        "colab": {
          "base_uri": "https://localhost:8080/",
          "height": 282
        },
        "id": "MfniJ0mt_QxY",
        "outputId": "caa41c5e-b821-4a75-ebf8-5a134a24bf2d"
      },
      "source": [
        "import matplotlib.pyplot as plt\n",
        "plt.scatter(df['Age'],df['EstimatedSalary'])\n"
      ],
      "execution_count": 13,
      "outputs": [
        {
          "output_type": "execute_result",
          "data": {
            "text/plain": [
              "<matplotlib.collections.PathCollection at 0x7efdf2d80a10>"
            ]
          },
          "metadata": {},
          "execution_count": 13
        },
        {
          "output_type": "display_data",
          "data": {
            "image/png": "[encoded data removed]",
            "text/plain": [
              "<Figure size 432x288 with 1 Axes>"
            ]
          },
          "metadata": {
            "needs_background": "light"
          }
        }
      ]
    },
    {
      "cell_type": "code",
      "metadata": {
        "colab": {
          "base_uri": "https://localhost:8080/",
          "height": 282
        },
        "id": "64eIxeNE_e6W",
        "outputId": "3e7996f0-d12a-4d08-f848-c9e894d70bd6"
      },
      "source": [
        "P_0 = df[df['Purchased']==0]\n",
        "P_1= df[df['Purchased']==1]\n",
        "plt.scatter(P_0['Age'],P_0['EstimatedSalary'],label='Not Purchased')\n",
        "plt.scatter(P_1['Age'],P_1['EstimatedSalary'],label='Purchased')\n"
      ],
      "execution_count": 15,
      "outputs": [
        {
          "output_type": "execute_result",
          "data": {
            "text/plain": [
              "<matplotlib.collections.PathCollection at 0x7efdf256a190>"
            ]
          },
          "metadata": {},
          "execution_count": 15
        },
        {
          "output_type": "display_data",
          "data": {
            "image/png": "[encoded data removed]",
            "text/plain": [
              "<Figure size 432x288 with 1 Axes>"
            ]
          },
          "metadata": {
            "needs_background": "light"
          }
        }
      ]
    },
    {
      "cell_type": "code",
      "metadata": {
        "colab": {
          "base_uri": "https://localhost:8080/"
        },
        "id": "d2jaGMj-BK-3",
        "outputId": "969b1b7e-b02f-46a7-cd4c-a6ab768994d1"
      },
      "source": [
        "X=df.iloc[:,2:4].values\n",
        "y=df.iloc[:,4].values\n",
        "type(y)"
      ],
      "execution_count": 71,
      "outputs": [
        {
          "output_type": "execute_result",
          "data": {
            "text/plain": [
              "numpy.ndarray"
            ]
          },
          "metadata": {},
          "execution_count": 71
        }
      ]
    },
    {
      "cell_type": "code",
      "metadata": {
        "id": "F3EpKUTWBz8B"
      },
      "source": [
        "from sklearn.model_selection import train_test_split\n",
        "X_train,X_test,y_train,y_test=train_test_split(X,y,test_size=0.3,random_state=10)\n"
      ],
      "execution_count": 73,
      "outputs": []
    },
    {
      "cell_type": "code",
      "metadata": {
        "colab": {
          "base_uri": "https://localhost:8080/"
        },
        "id": "bJOh7PcaDY4h",
        "outputId": "c375eb05-3ef8-4c5d-dd3a-a3475deb8be2"
      },
      "source": [
        "print(X_train.shape)\n",
        "print(X_test.shape)\n",
        "print(y_train.shape)\n",
        "print(y_test.shape)\n"
      ],
      "execution_count": 74,
      "outputs": [
        {
          "output_type": "stream",
          "name": "stdout",
          "text": [
            "(280, 2)\n",
            "(120, 2)\n",
            "(280,)\n",
            "(120,)\n"
          ]
        }
      ]
    },
    {
      "cell_type": "code",
      "metadata": {
        "id": "TjqsXpL5DrJR"
      },
      "source": [
        "from sklearn.preprocessing import MinMaxScaler\n",
        "sc=MinMaxScaler()\n",
        "X_train=sc.fit_transform(X_train)\n",
        "X_test=sc.transform(X_test)"
      ],
      "execution_count": 75,
      "outputs": []
    },
    {
      "cell_type": "code",
      "metadata": {
        "colab": {
          "base_uri": "https://localhost:8080/"
        },
        "id": "o3gYQ7bYGSj1",
        "outputId": "68030f96-8b14-4cc7-9c30-8b3fe5908bf3"
      },
      "source": [
        "from sklearn.linear_model import LogisticRegression\n",
        "model=LogisticRegression()\n",
        "model.fit(X_train,y_train)\n"
      ],
      "execution_count": 76,
      "outputs": [
        {
          "output_type": "execute_result",
          "data": {
            "text/plain": [
              "LogisticRegression(C=1.0, class_weight=None, dual=False, fit_intercept=True,\n",
              "                   intercept_scaling=1, l1_ratio=None, max_iter=100,\n",
              "                   multi_class='auto', n_jobs=None, penalty='l2',\n",
              "                   random_state=None, solver='lbfgs', tol=0.0001, verbose=0,\n",
              "                   warm_start=False)"
            ]
          },
          "metadata": {},
          "execution_count": 76
        }
      ]
    },
    {
      "cell_type": "code",
      "metadata": {
        "colab": {
          "base_uri": "https://localhost:8080/"
        },
        "id": "dZv0K_X5G_kV",
        "outputId": "4fde5ad2-c720-4d66-8db5-29393a9f22c1"
      },
      "source": [
        "model.score(X_train,y_train)"
      ],
      "execution_count": 86,
      "outputs": [
        {
          "output_type": "execute_result",
          "data": {
            "text/plain": [
              "0.8321428571428572"
            ]
          },
          "metadata": {},
          "execution_count": 86
        }
      ]
    },
    {
      "cell_type": "code",
      "metadata": {
        "colab": {
          "base_uri": "https://localhost:8080/"
        },
        "id": "cPfp7ldQHHlh",
        "outputId": "93ae0397-68bf-496a-f3cb-b79df63b9fe8"
      },
      "source": [
        "predictions=model.predict(X_test)\n",
        "predictions"
      ],
      "execution_count": 87,
      "outputs": [
        {
          "output_type": "execute_result",
          "data": {
            "text/plain": [
              "array([0, 0, 1, 0, 0, 1, 0, 0, 0, 0, 0, 0, 1, 1, 0, 0, 0, 0, 0, 1, 0, 0,\n",
              "       0, 1, 1, 0, 0, 1, 0, 0, 0, 0, 0, 0, 1, 0, 1, 1, 0, 0, 0, 0, 0, 0,\n",
              "       0, 0, 1, 0, 0, 0, 0, 1, 1, 0, 0, 0, 1, 0, 1, 1, 0, 1, 0, 1, 1, 1,\n",
              "       0, 1, 0, 0, 0, 0, 0, 0, 0, 0, 0, 0, 1, 0, 0, 0, 0, 0, 0, 0, 0, 0,\n",
              "       0, 0, 1, 0, 0, 1, 0, 0, 1, 0, 0, 0, 0, 0, 0, 1, 1, 0, 0, 0, 1, 0,\n",
              "       0, 1, 0, 0, 1, 0, 0, 1, 0, 1])"
            ]
          },
          "metadata": {},
          "execution_count": 87
        }
      ]
    },
    {
      "cell_type": "code",
      "metadata": {
        "id": "UsKtbthFHTV1"
      },
      "source": [
        "from sklearn.metrics import accuracy_score,confusion_matrix,classification_report"
      ],
      "execution_count": 79,
      "outputs": []
    },
    {
      "cell_type": "code",
      "metadata": {
        "colab": {
          "base_uri": "https://localhost:8080/"
        },
        "id": "xGhkysY4Hkzi",
        "outputId": "197e31ae-cb64-43dd-d188-3ac77108c171"
      },
      "source": [
        "accuracy_score(predictions,y_test)"
      ],
      "execution_count": 88,
      "outputs": [
        {
          "output_type": "execute_result",
          "data": {
            "text/plain": [
              "0.8666666666666667"
            ]
          },
          "metadata": {},
          "execution_count": 88
        }
      ]
    },
    {
      "cell_type": "code",
      "metadata": {
        "colab": {
          "base_uri": "https://localhost:8080/"
        },
        "id": "eGNVwJ5YHsRE",
        "outputId": "069a92f6-0b1e-4102-8f8e-e041a1e3bcd1"
      },
      "source": [
        "print(confusion_matrix(predictions,y_test))"
      ],
      "execution_count": 89,
      "outputs": [
        {
          "output_type": "stream",
          "name": "stdout",
          "text": [
            "[[77 10]\n",
            " [ 6 27]]\n"
          ]
        }
      ]
    },
    {
      "cell_type": "code",
      "metadata": {
        "colab": {
          "base_uri": "https://localhost:8080/",
          "height": 316
        },
        "id": "Te-_BZ2sKHlB",
        "outputId": "34d18349-cec4-470e-e766-f5fb4cc6e939"
      },
      "source": [
        "from mlxtend.plotting import plot_decision_regions\n",
        "plot_decision_regions(X_test,y_test,clf=model)"
      ],
      "execution_count": 91,
      "outputs": [
        {
          "output_type": "stream",
          "name": "stderr",
          "text": [
            "/usr/local/lib/python3.7/dist-packages/mlxtend/plotting/decision_regions.py:244: MatplotlibDeprecationWarning: Passing unsupported keyword arguments to axis() will raise a TypeError in 3.3.\n",
            "  ax.axis(xmin=xx.min(), xmax=xx.max(), y_min=yy.min(), y_max=yy.max())\n"
          ]
        },
        {
          "output_type": "execute_result",
          "data": {
            "text/plain": [
              "<matplotlib.axes._subplots.AxesSubplot at 0x7efdd8070e10>"
            ]
          },
          "metadata": {},
          "execution_count": 91
        },
        {
          "output_type": "display_data",
          "data": {
            "image/png": "[encoded data removed]",
            "text/plain": [
              "<Figure size 432x288 with 1 Axes>"
            ]
          },
          "metadata": {
            "needs_background": "light"
          }
        }
      ]
    },
    {
      "cell_type": "code",
      "metadata": {
        "id": "Cgqo2vIBL4XH"
      },
      "source": [
        "def sigmoid(x1):\n",
        "  return 1/(1+np.exp(-x1))"
      ],
      "execution_count": 84,
      "outputs": []
    },
    {
      "cell_type": "code",
      "metadata": {
        "colab": {
          "base_uri": "https://localhost:8080/"
        },
        "id": "E01gTchcMG3A",
        "outputId": "6d786ca9-75ad-4d7e-e5d0-52f9c4b6281f"
      },
      "source": [
        "sigmoid(X_test)"
      ],
      "execution_count": 66,
      "outputs": [
        {
          "output_type": "execute_result",
          "data": {
            "text/plain": [
              "array([[0.63909275, 0.59154847],\n",
              "       [0.61120518, 0.60224182],\n",
              "       [0.63909275, 0.63542356],\n",
              "       [0.66607285, 0.55898334],\n",
              "       [0.5297268 , 0.56080862],\n",
              "       [0.72159375, 0.51481048],\n",
              "       [0.62245933, 0.549834  ],\n",
              "       [0.66607285, 0.55166677],\n",
              "       [0.59983122, 0.58076776],\n",
              "       [0.62245933, 0.60224182],\n",
              "       [0.63358302, 0.58076776],\n",
              "       [0.5474756 , 0.68199668],\n",
              "       [0.72635167, 0.70095547],\n",
              "       [0.71678537, 0.52035911],\n",
              "       [0.66075637, 0.51481048],\n",
              "       [0.61684791, 0.60224182],\n",
              "       [0.5592442 , 0.63026022],\n",
              "       [0.53565367, 0.57896316],\n",
              "       [0.5709466 , 0.5       ],\n",
              "       [0.62245933, 0.68838774],\n",
              "       [0.55336737, 0.57172409],\n",
              "       [0.51784955, 0.60401489],\n",
              "       [0.61120518, 0.60931754],\n",
              "       [0.72635167, 0.63198472],\n",
              "       [0.72159375, 0.55898334],\n",
              "       [0.61120518, 0.57353687],\n",
              "       [0.61684791, 0.58076776],\n",
              "       [0.61120518, 0.72519331],\n",
              "       [0.67134745, 0.53328404],\n",
              "       [0.60553249, 0.53328404],\n",
              "       [0.59983122, 0.5092582 ],\n",
              "       [0.55336737, 0.62506691],\n",
              "       [0.58834862, 0.55166677],\n",
              "       [0.6765792 , 0.52405549],\n",
              "       [0.67134745, 0.68360101],\n",
              "       [0.59410279, 0.55166677],\n",
              "       [0.66075637, 0.63198472],\n",
              "       [0.62803813, 0.71924926],\n",
              "       [0.62803813, 0.55898334],\n",
              "       [0.5592442 , 0.58076776],\n",
              "       [0.63358302, 0.55532806],\n",
              "       [0.65539904, 0.55532806],\n",
              "       [0.53565367, 0.50740687],\n",
              "       [0.5709466 , 0.56263225],\n",
              "       [0.60553249, 0.58796414],\n",
              "       [0.58834862, 0.529595  ],\n",
              "       [0.67134745, 0.70712913],\n",
              "       [0.62245933, 0.549834  ],\n",
              "       [0.61120518, 0.61809764],\n",
              "       [0.51190251, 0.6285324 ],\n",
              "       [0.5592442 , 0.68997448],\n",
              "       [0.60553249, 0.69470785],\n",
              "       [0.66607285, 0.56445419],\n",
              "       [0.59983122, 0.60578522],\n",
              "       [0.63909275, 0.56990939],\n",
              "       [0.61120518, 0.61283844],\n",
              "       [0.67134745, 0.63542356],\n",
              "       [0.5474756 , 0.61984465],\n",
              "       [0.69200802, 0.54248987],\n",
              "       [0.72635167, 0.7207426 ],\n",
              "       [0.54157048, 0.63026022],\n",
              "       [0.67134745, 0.64565631],\n",
              "       [0.61684791, 0.56627439],\n",
              "       [0.61120518, 0.72223107],\n",
              "       [0.71678537, 0.68838774],\n",
              "       [0.65539904, 0.61634758],\n",
              "       [0.63909275, 0.59154847],\n",
              "       [0.71192709, 0.70559272],\n",
              "       [0.51190251, 0.51481048],\n",
              "       [0.61684791, 0.61809764],\n",
              "       [0.61120518, 0.60401489],\n",
              "       [0.62245933, 0.64565631],\n",
              "       [0.5592442 , 0.54065082],\n",
              "       [0.5592442 , 0.58076776],\n",
              "       [0.56510447, 0.62332932],\n",
              "       [0.62803813, 0.58257021],\n",
              "       [0.58834862, 0.54799987],\n",
              "       [0.52379154, 0.57353687],\n",
              "       [0.72635167, 0.62332932],\n",
              "       [0.66607285, 0.52774924],\n",
              "       [0.61120518, 0.61634758],\n",
              "       [0.61684791, 0.58437045],\n",
              "       [0.51190251, 0.60755279],\n",
              "       [0.55336737, 0.63198472],\n",
              "       [0.5297268 , 0.52405549],\n",
              "       [0.58257021, 0.6285324 ],\n",
              "       [0.51784955, 0.63198472],\n",
              "       [0.5592442 , 0.63370584],\n",
              "       [0.5059521 , 0.52035911],\n",
              "       [0.57676902, 0.61107944],\n",
              "       [0.71192709, 0.58257021],\n",
              "       [0.57676902, 0.59690666],\n",
              "       [0.59983122, 0.51296006],\n",
              "       [0.72635167, 0.549834  ],\n",
              "       [0.5474756 , 0.61809764],\n",
              "       [0.5       , 0.56809281],\n",
              "       [0.69705928, 0.65909397],\n",
              "       [0.55336737, 0.63542356],\n",
              "       [0.57676902, 0.60224182],\n",
              "       [0.5709466 , 0.61809764],\n",
              "       [0.5592442 , 0.61634758],\n",
              "       [0.5592442 , 0.62680128],\n",
              "       [0.63358302, 0.60401489],\n",
              "       [0.73105858, 0.53512722],\n",
              "       [0.66075637, 0.62158855],\n",
              "       [0.66607285, 0.53512722],\n",
              "       [0.58834862, 0.59868766],\n",
              "       [0.5474756 , 0.5       ],\n",
              "       [0.60553249, 0.72223107],\n",
              "       [0.59983122, 0.54248987],\n",
              "       [0.57676902, 0.50555533],\n",
              "       [0.69200802, 0.67553632],\n",
              "       [0.59410279, 0.55166677],\n",
              "       [0.54157048, 0.61809764],\n",
              "       [0.69705928, 0.60401489],\n",
              "       [0.65539904, 0.52035911],\n",
              "       [0.61120518, 0.56990939],\n",
              "       [0.73105858, 0.65575744],\n",
              "       [0.58257021, 0.68038802],\n",
              "       [0.63909275, 0.61809764]])"
            ]
          },
          "metadata": {},
          "execution_count": 66
        }
      ]
    },
    {
      "cell_type": "code",
      "metadata": {
        "colab": {
          "base_uri": "https://localhost:8080/",
          "height": 282
        },
        "id": "dU5gffCcEoaP",
        "outputId": "db83e1a9-6093-41c3-e09b-62c1e8b686a9"
      },
      "source": [
        "import numpy as np\n",
        "a =np.array([23,12,56,78,33,99])\n",
        "b =np.array([2,4,1,7,8,7])\n",
        "plt.plot(a,b)\n"
      ],
      "execution_count": 55,
      "outputs": [
        {
          "output_type": "execute_result",
          "data": {
            "text/plain": [
              "[<matplotlib.lines.Line2D at 0x7efde0cb3110>]"
            ]
          },
          "metadata": {},
          "execution_count": 55
        },
        {
          "output_type": "display_data",
          "data": {
            "image/png": "[encoded data removed]",
            "text/plain": [
              "<Figure size 432x288 with 1 Axes>"
            ]
          },
          "metadata": {
            "needs_background": "light"
          }
        }
      ]
    },
    {
      "cell_type": "code",
      "metadata": {
        "id": "SWC0QRRNE_fe"
      },
      "source": [
        "a_norm=(a-np.min(a))/(np.max(a)-np.min(a))\n",
        "b_norm=(b-np.min(b))/(np.max(b)-np.min(b))"
      ],
      "execution_count": 60,
      "outputs": []
    },
    {
      "cell_type": "code",
      "metadata": {
        "id": "LqLZyU9GLQWE"
      },
      "source": [
        ""
      ],
      "execution_count": null,
      "outputs": []
    },
    {
      "cell_type": "code",
      "metadata": {
        "colab": {
          "base_uri": "https://localhost:8080/",
          "height": 419
        },
        "id": "nZW7LPtBCAZg",
        "outputId": "bbe387f5-f1ad-486b-fec3-b4a80aff0130"
      },
      "source": [
        "df.iloc[:,2:4]"
      ],
      "execution_count": 61,
      "outputs": [
        {
          "output_type": "execute_result",
          "data": {
            "text/html": [
              "<div>\n",
              "<style scoped>\n",
              "    .dataframe tbody tr th:only-of-type {\n",
              "        vertical-align: middle;\n",
              "    }\n",
              "\n",
              "    .dataframe tbody tr th {\n",
              "        vertical-align: top;\n",
              "    }\n",
              "\n",
              "    .dataframe thead th {\n",
              "        text-align: right;\n",
              "    }\n",
              "</style>\n",
              "<table border=\"1\" class=\"dataframe\">\n",
              "  <thead>\n",
              "    <tr style=\"text-align: right;\">\n",
              "      <th></th>\n",
              "      <th>Age</th>\n",
              "      <th>EstimatedSalary</th>\n",
              "    </tr>\n",
              "  </thead>\n",
              "  <tbody>\n",
              "    <tr>\n",
              "      <th>0</th>\n",
              "      <td>19</td>\n",
              "      <td>19000</td>\n",
              "    </tr>\n",
              "    <tr>\n",
              "      <th>1</th>\n",
              "      <td>35</td>\n",
              "      <td>20000</td>\n",
              "    </tr>\n",
              "    <tr>\n",
              "      <th>2</th>\n",
              "      <td>26</td>\n",
              "      <td>43000</td>\n",
              "    </tr>\n",
              "    <tr>\n",
              "      <th>3</th>\n",
              "      <td>27</td>\n",
              "      <td>57000</td>\n",
              "    </tr>\n",
              "    <tr>\n",
              "      <th>4</th>\n",
              "      <td>19</td>\n",
              "      <td>76000</td>\n",
              "    </tr>\n",
              "    <tr>\n",
              "      <th>...</th>\n",
              "      <td>...</td>\n",
              "      <td>...</td>\n",
              "    </tr>\n",
              "    <tr>\n",
              "      <th>395</th>\n",
              "      <td>46</td>\n",
              "      <td>41000</td>\n",
              "    </tr>\n",
              "    <tr>\n",
              "      <th>396</th>\n",
              "      <td>51</td>\n",
              "      <td>23000</td>\n",
              "    </tr>\n",
              "    <tr>\n",
              "      <th>397</th>\n",
              "      <td>50</td>\n",
              "      <td>20000</td>\n",
              "    </tr>\n",
              "    <tr>\n",
              "      <th>398</th>\n",
              "      <td>36</td>\n",
              "      <td>33000</td>\n",
              "    </tr>\n",
              "    <tr>\n",
              "      <th>399</th>\n",
              "      <td>49</td>\n",
              "      <td>36000</td>\n",
              "    </tr>\n",
              "  </tbody>\n",
              "</table>\n",
              "<p>400 rows × 2 columns</p>\n",
              "</div>"
            ],
            "text/plain": [
              "     Age  EstimatedSalary\n",
              "0     19            19000\n",
              "1     35            20000\n",
              "2     26            43000\n",
              "3     27            57000\n",
              "4     19            76000\n",
              "..   ...              ...\n",
              "395   46            41000\n",
              "396   51            23000\n",
              "397   50            20000\n",
              "398   36            33000\n",
              "399   49            36000\n",
              "\n",
              "[400 rows x 2 columns]"
            ]
          },
          "metadata": {},
          "execution_count": 61
        }
      ]
    }
  ]
}